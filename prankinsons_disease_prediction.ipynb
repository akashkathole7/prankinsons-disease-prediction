{
  "nbformat": 4,
  "nbformat_minor": 0,
  "metadata": {
    "colab": {
      "name": "prankinsons_disease_prediction.ipynb",
      "provenance": []
    },
    "kernelspec": {
      "name": "python3",
      "display_name": "Python 3"
    },
    "language_info": {
      "name": "python"
    }
  },
  "cells": [
    {
      "cell_type": "code",
      "metadata": {
        "id": "pnEz1cs7JUpD"
      },
      "source": [
        " import pandas as pd \n",
        " import numpy as np \n",
        " from sklearn.model_selection import train_test_split\n",
        " from sklearn.linear_model import LogisticRegression\n",
        " from sklearn.metrics import accuracy_score"
      ],
      "execution_count": 8,
      "outputs": []
    },
    {
      "cell_type": "code",
      "metadata": {
        "id": "-MGkbWZwJmnb"
      },
      "source": [
        "data = pd.read_csv('/content/parkinsons.data')"
      ],
      "execution_count": 9,
      "outputs": []
    },
    {
      "cell_type": "code",
      "metadata": {
        "colab": {
          "base_uri": "https://localhost:8080/",
          "height": 226
        },
        "id": "J1BYeZt5Jpn2",
        "outputId": "e161680a-cfa1-4330-bdd0-43449351fbae"
      },
      "source": [
        "data.head()"
      ],
      "execution_count": 10,
      "outputs": [
        {
          "output_type": "execute_result",
          "data": {
            "text/html": [
              "<div>\n",
              "<style scoped>\n",
              "    .dataframe tbody tr th:only-of-type {\n",
              "        vertical-align: middle;\n",
              "    }\n",
              "\n",
              "    .dataframe tbody tr th {\n",
              "        vertical-align: top;\n",
              "    }\n",
              "\n",
              "    .dataframe thead th {\n",
              "        text-align: right;\n",
              "    }\n",
              "</style>\n",
              "<table border=\"1\" class=\"dataframe\">\n",
              "  <thead>\n",
              "    <tr style=\"text-align: right;\">\n",
              "      <th></th>\n",
              "      <th>name</th>\n",
              "      <th>MDVP:Fo(Hz)</th>\n",
              "      <th>MDVP:Fhi(Hz)</th>\n",
              "      <th>MDVP:Flo(Hz)</th>\n",
              "      <th>MDVP:Jitter(%)</th>\n",
              "      <th>MDVP:Jitter(Abs)</th>\n",
              "      <th>MDVP:RAP</th>\n",
              "      <th>MDVP:PPQ</th>\n",
              "      <th>Jitter:DDP</th>\n",
              "      <th>MDVP:Shimmer</th>\n",
              "      <th>MDVP:Shimmer(dB)</th>\n",
              "      <th>Shimmer:APQ3</th>\n",
              "      <th>Shimmer:APQ5</th>\n",
              "      <th>MDVP:APQ</th>\n",
              "      <th>Shimmer:DDA</th>\n",
              "      <th>NHR</th>\n",
              "      <th>HNR</th>\n",
              "      <th>status</th>\n",
              "      <th>RPDE</th>\n",
              "      <th>DFA</th>\n",
              "      <th>spread1</th>\n",
              "      <th>spread2</th>\n",
              "      <th>D2</th>\n",
              "      <th>PPE</th>\n",
              "    </tr>\n",
              "  </thead>\n",
              "  <tbody>\n",
              "    <tr>\n",
              "      <th>0</th>\n",
              "      <td>phon_R01_S01_1</td>\n",
              "      <td>119.992</td>\n",
              "      <td>157.302</td>\n",
              "      <td>74.997</td>\n",
              "      <td>0.00784</td>\n",
              "      <td>0.00007</td>\n",
              "      <td>0.00370</td>\n",
              "      <td>0.00554</td>\n",
              "      <td>0.01109</td>\n",
              "      <td>0.04374</td>\n",
              "      <td>0.426</td>\n",
              "      <td>0.02182</td>\n",
              "      <td>0.03130</td>\n",
              "      <td>0.02971</td>\n",
              "      <td>0.06545</td>\n",
              "      <td>0.02211</td>\n",
              "      <td>21.033</td>\n",
              "      <td>1</td>\n",
              "      <td>0.414783</td>\n",
              "      <td>0.815285</td>\n",
              "      <td>-4.813031</td>\n",
              "      <td>0.266482</td>\n",
              "      <td>2.301442</td>\n",
              "      <td>0.284654</td>\n",
              "    </tr>\n",
              "    <tr>\n",
              "      <th>1</th>\n",
              "      <td>phon_R01_S01_2</td>\n",
              "      <td>122.400</td>\n",
              "      <td>148.650</td>\n",
              "      <td>113.819</td>\n",
              "      <td>0.00968</td>\n",
              "      <td>0.00008</td>\n",
              "      <td>0.00465</td>\n",
              "      <td>0.00696</td>\n",
              "      <td>0.01394</td>\n",
              "      <td>0.06134</td>\n",
              "      <td>0.626</td>\n",
              "      <td>0.03134</td>\n",
              "      <td>0.04518</td>\n",
              "      <td>0.04368</td>\n",
              "      <td>0.09403</td>\n",
              "      <td>0.01929</td>\n",
              "      <td>19.085</td>\n",
              "      <td>1</td>\n",
              "      <td>0.458359</td>\n",
              "      <td>0.819521</td>\n",
              "      <td>-4.075192</td>\n",
              "      <td>0.335590</td>\n",
              "      <td>2.486855</td>\n",
              "      <td>0.368674</td>\n",
              "    </tr>\n",
              "    <tr>\n",
              "      <th>2</th>\n",
              "      <td>phon_R01_S01_3</td>\n",
              "      <td>116.682</td>\n",
              "      <td>131.111</td>\n",
              "      <td>111.555</td>\n",
              "      <td>0.01050</td>\n",
              "      <td>0.00009</td>\n",
              "      <td>0.00544</td>\n",
              "      <td>0.00781</td>\n",
              "      <td>0.01633</td>\n",
              "      <td>0.05233</td>\n",
              "      <td>0.482</td>\n",
              "      <td>0.02757</td>\n",
              "      <td>0.03858</td>\n",
              "      <td>0.03590</td>\n",
              "      <td>0.08270</td>\n",
              "      <td>0.01309</td>\n",
              "      <td>20.651</td>\n",
              "      <td>1</td>\n",
              "      <td>0.429895</td>\n",
              "      <td>0.825288</td>\n",
              "      <td>-4.443179</td>\n",
              "      <td>0.311173</td>\n",
              "      <td>2.342259</td>\n",
              "      <td>0.332634</td>\n",
              "    </tr>\n",
              "    <tr>\n",
              "      <th>3</th>\n",
              "      <td>phon_R01_S01_4</td>\n",
              "      <td>116.676</td>\n",
              "      <td>137.871</td>\n",
              "      <td>111.366</td>\n",
              "      <td>0.00997</td>\n",
              "      <td>0.00009</td>\n",
              "      <td>0.00502</td>\n",
              "      <td>0.00698</td>\n",
              "      <td>0.01505</td>\n",
              "      <td>0.05492</td>\n",
              "      <td>0.517</td>\n",
              "      <td>0.02924</td>\n",
              "      <td>0.04005</td>\n",
              "      <td>0.03772</td>\n",
              "      <td>0.08771</td>\n",
              "      <td>0.01353</td>\n",
              "      <td>20.644</td>\n",
              "      <td>1</td>\n",
              "      <td>0.434969</td>\n",
              "      <td>0.819235</td>\n",
              "      <td>-4.117501</td>\n",
              "      <td>0.334147</td>\n",
              "      <td>2.405554</td>\n",
              "      <td>0.368975</td>\n",
              "    </tr>\n",
              "    <tr>\n",
              "      <th>4</th>\n",
              "      <td>phon_R01_S01_5</td>\n",
              "      <td>116.014</td>\n",
              "      <td>141.781</td>\n",
              "      <td>110.655</td>\n",
              "      <td>0.01284</td>\n",
              "      <td>0.00011</td>\n",
              "      <td>0.00655</td>\n",
              "      <td>0.00908</td>\n",
              "      <td>0.01966</td>\n",
              "      <td>0.06425</td>\n",
              "      <td>0.584</td>\n",
              "      <td>0.03490</td>\n",
              "      <td>0.04825</td>\n",
              "      <td>0.04465</td>\n",
              "      <td>0.10470</td>\n",
              "      <td>0.01767</td>\n",
              "      <td>19.649</td>\n",
              "      <td>1</td>\n",
              "      <td>0.417356</td>\n",
              "      <td>0.823484</td>\n",
              "      <td>-3.747787</td>\n",
              "      <td>0.234513</td>\n",
              "      <td>2.332180</td>\n",
              "      <td>0.410335</td>\n",
              "    </tr>\n",
              "  </tbody>\n",
              "</table>\n",
              "</div>"
            ],
            "text/plain": [
              "             name  MDVP:Fo(Hz)  MDVP:Fhi(Hz)  ...   spread2        D2       PPE\n",
              "0  phon_R01_S01_1      119.992       157.302  ...  0.266482  2.301442  0.284654\n",
              "1  phon_R01_S01_2      122.400       148.650  ...  0.335590  2.486855  0.368674\n",
              "2  phon_R01_S01_3      116.682       131.111  ...  0.311173  2.342259  0.332634\n",
              "3  phon_R01_S01_4      116.676       137.871  ...  0.334147  2.405554  0.368975\n",
              "4  phon_R01_S01_5      116.014       141.781  ...  0.234513  2.332180  0.410335\n",
              "\n",
              "[5 rows x 24 columns]"
            ]
          },
          "metadata": {},
          "execution_count": 10
        }
      ]
    },
    {
      "cell_type": "code",
      "metadata": {
        "colab": {
          "base_uri": "https://localhost:8080/"
        },
        "id": "vWvytFpaJrSs",
        "outputId": "38897055-2039-4ccd-d7fe-0a5690c22730"
      },
      "source": [
        "data.isnull().sum()"
      ],
      "execution_count": 11,
      "outputs": [
        {
          "output_type": "execute_result",
          "data": {
            "text/plain": [
              "name                0\n",
              "MDVP:Fo(Hz)         0\n",
              "MDVP:Fhi(Hz)        0\n",
              "MDVP:Flo(Hz)        0\n",
              "MDVP:Jitter(%)      0\n",
              "MDVP:Jitter(Abs)    0\n",
              "MDVP:RAP            0\n",
              "MDVP:PPQ            0\n",
              "Jitter:DDP          0\n",
              "MDVP:Shimmer        0\n",
              "MDVP:Shimmer(dB)    0\n",
              "Shimmer:APQ3        0\n",
              "Shimmer:APQ5        0\n",
              "MDVP:APQ            0\n",
              "Shimmer:DDA         0\n",
              "NHR                 0\n",
              "HNR                 0\n",
              "status              0\n",
              "RPDE                0\n",
              "DFA                 0\n",
              "spread1             0\n",
              "spread2             0\n",
              "D2                  0\n",
              "PPE                 0\n",
              "dtype: int64"
            ]
          },
          "metadata": {},
          "execution_count": 11
        }
      ]
    },
    {
      "cell_type": "code",
      "metadata": {
        "colab": {
          "base_uri": "https://localhost:8080/",
          "height": 802
        },
        "id": "43nOi-DaKfbG",
        "outputId": "23e2d3ca-1447-4531-b3f1-44c070896f3e"
      },
      "source": [
        "data.describe(include =\"all\").T"
      ],
      "execution_count": 12,
      "outputs": [
        {
          "output_type": "execute_result",
          "data": {
            "text/html": [
              "<div>\n",
              "<style scoped>\n",
              "    .dataframe tbody tr th:only-of-type {\n",
              "        vertical-align: middle;\n",
              "    }\n",
              "\n",
              "    .dataframe tbody tr th {\n",
              "        vertical-align: top;\n",
              "    }\n",
              "\n",
              "    .dataframe thead th {\n",
              "        text-align: right;\n",
              "    }\n",
              "</style>\n",
              "<table border=\"1\" class=\"dataframe\">\n",
              "  <thead>\n",
              "    <tr style=\"text-align: right;\">\n",
              "      <th></th>\n",
              "      <th>count</th>\n",
              "      <th>unique</th>\n",
              "      <th>top</th>\n",
              "      <th>freq</th>\n",
              "      <th>mean</th>\n",
              "      <th>std</th>\n",
              "      <th>min</th>\n",
              "      <th>25%</th>\n",
              "      <th>50%</th>\n",
              "      <th>75%</th>\n",
              "      <th>max</th>\n",
              "    </tr>\n",
              "  </thead>\n",
              "  <tbody>\n",
              "    <tr>\n",
              "      <th>name</th>\n",
              "      <td>195</td>\n",
              "      <td>195</td>\n",
              "      <td>phon_R01_S24_5</td>\n",
              "      <td>1</td>\n",
              "      <td>NaN</td>\n",
              "      <td>NaN</td>\n",
              "      <td>NaN</td>\n",
              "      <td>NaN</td>\n",
              "      <td>NaN</td>\n",
              "      <td>NaN</td>\n",
              "      <td>NaN</td>\n",
              "    </tr>\n",
              "    <tr>\n",
              "      <th>MDVP:Fo(Hz)</th>\n",
              "      <td>195</td>\n",
              "      <td>NaN</td>\n",
              "      <td>NaN</td>\n",
              "      <td>NaN</td>\n",
              "      <td>154.229</td>\n",
              "      <td>41.3901</td>\n",
              "      <td>88.333</td>\n",
              "      <td>117.572</td>\n",
              "      <td>148.79</td>\n",
              "      <td>182.769</td>\n",
              "      <td>260.105</td>\n",
              "    </tr>\n",
              "    <tr>\n",
              "      <th>MDVP:Fhi(Hz)</th>\n",
              "      <td>195</td>\n",
              "      <td>NaN</td>\n",
              "      <td>NaN</td>\n",
              "      <td>NaN</td>\n",
              "      <td>197.105</td>\n",
              "      <td>91.4915</td>\n",
              "      <td>102.145</td>\n",
              "      <td>134.863</td>\n",
              "      <td>175.829</td>\n",
              "      <td>224.206</td>\n",
              "      <td>592.03</td>\n",
              "    </tr>\n",
              "    <tr>\n",
              "      <th>MDVP:Flo(Hz)</th>\n",
              "      <td>195</td>\n",
              "      <td>NaN</td>\n",
              "      <td>NaN</td>\n",
              "      <td>NaN</td>\n",
              "      <td>116.325</td>\n",
              "      <td>43.5214</td>\n",
              "      <td>65.476</td>\n",
              "      <td>84.291</td>\n",
              "      <td>104.315</td>\n",
              "      <td>140.019</td>\n",
              "      <td>239.17</td>\n",
              "    </tr>\n",
              "    <tr>\n",
              "      <th>MDVP:Jitter(%)</th>\n",
              "      <td>195</td>\n",
              "      <td>NaN</td>\n",
              "      <td>NaN</td>\n",
              "      <td>NaN</td>\n",
              "      <td>0.00622046</td>\n",
              "      <td>0.00484813</td>\n",
              "      <td>0.00168</td>\n",
              "      <td>0.00346</td>\n",
              "      <td>0.00494</td>\n",
              "      <td>0.007365</td>\n",
              "      <td>0.03316</td>\n",
              "    </tr>\n",
              "    <tr>\n",
              "      <th>MDVP:Jitter(Abs)</th>\n",
              "      <td>195</td>\n",
              "      <td>NaN</td>\n",
              "      <td>NaN</td>\n",
              "      <td>NaN</td>\n",
              "      <td>4.3959e-05</td>\n",
              "      <td>3.48219e-05</td>\n",
              "      <td>7e-06</td>\n",
              "      <td>2e-05</td>\n",
              "      <td>3e-05</td>\n",
              "      <td>6e-05</td>\n",
              "      <td>0.00026</td>\n",
              "    </tr>\n",
              "    <tr>\n",
              "      <th>MDVP:RAP</th>\n",
              "      <td>195</td>\n",
              "      <td>NaN</td>\n",
              "      <td>NaN</td>\n",
              "      <td>NaN</td>\n",
              "      <td>0.00330641</td>\n",
              "      <td>0.00296777</td>\n",
              "      <td>0.00068</td>\n",
              "      <td>0.00166</td>\n",
              "      <td>0.0025</td>\n",
              "      <td>0.003835</td>\n",
              "      <td>0.02144</td>\n",
              "    </tr>\n",
              "    <tr>\n",
              "      <th>MDVP:PPQ</th>\n",
              "      <td>195</td>\n",
              "      <td>NaN</td>\n",
              "      <td>NaN</td>\n",
              "      <td>NaN</td>\n",
              "      <td>0.00344636</td>\n",
              "      <td>0.00275898</td>\n",
              "      <td>0.00092</td>\n",
              "      <td>0.00186</td>\n",
              "      <td>0.00269</td>\n",
              "      <td>0.003955</td>\n",
              "      <td>0.01958</td>\n",
              "    </tr>\n",
              "    <tr>\n",
              "      <th>Jitter:DDP</th>\n",
              "      <td>195</td>\n",
              "      <td>NaN</td>\n",
              "      <td>NaN</td>\n",
              "      <td>NaN</td>\n",
              "      <td>0.00991995</td>\n",
              "      <td>0.00890334</td>\n",
              "      <td>0.00204</td>\n",
              "      <td>0.004985</td>\n",
              "      <td>0.00749</td>\n",
              "      <td>0.011505</td>\n",
              "      <td>0.06433</td>\n",
              "    </tr>\n",
              "    <tr>\n",
              "      <th>MDVP:Shimmer</th>\n",
              "      <td>195</td>\n",
              "      <td>NaN</td>\n",
              "      <td>NaN</td>\n",
              "      <td>NaN</td>\n",
              "      <td>0.0297091</td>\n",
              "      <td>0.0188569</td>\n",
              "      <td>0.00954</td>\n",
              "      <td>0.016505</td>\n",
              "      <td>0.02297</td>\n",
              "      <td>0.037885</td>\n",
              "      <td>0.11908</td>\n",
              "    </tr>\n",
              "    <tr>\n",
              "      <th>MDVP:Shimmer(dB)</th>\n",
              "      <td>195</td>\n",
              "      <td>NaN</td>\n",
              "      <td>NaN</td>\n",
              "      <td>NaN</td>\n",
              "      <td>0.282251</td>\n",
              "      <td>0.194877</td>\n",
              "      <td>0.085</td>\n",
              "      <td>0.1485</td>\n",
              "      <td>0.221</td>\n",
              "      <td>0.35</td>\n",
              "      <td>1.302</td>\n",
              "    </tr>\n",
              "    <tr>\n",
              "      <th>Shimmer:APQ3</th>\n",
              "      <td>195</td>\n",
              "      <td>NaN</td>\n",
              "      <td>NaN</td>\n",
              "      <td>NaN</td>\n",
              "      <td>0.0156642</td>\n",
              "      <td>0.0101532</td>\n",
              "      <td>0.00455</td>\n",
              "      <td>0.008245</td>\n",
              "      <td>0.01279</td>\n",
              "      <td>0.020265</td>\n",
              "      <td>0.05647</td>\n",
              "    </tr>\n",
              "    <tr>\n",
              "      <th>Shimmer:APQ5</th>\n",
              "      <td>195</td>\n",
              "      <td>NaN</td>\n",
              "      <td>NaN</td>\n",
              "      <td>NaN</td>\n",
              "      <td>0.0178783</td>\n",
              "      <td>0.0120237</td>\n",
              "      <td>0.0057</td>\n",
              "      <td>0.00958</td>\n",
              "      <td>0.01347</td>\n",
              "      <td>0.02238</td>\n",
              "      <td>0.0794</td>\n",
              "    </tr>\n",
              "    <tr>\n",
              "      <th>MDVP:APQ</th>\n",
              "      <td>195</td>\n",
              "      <td>NaN</td>\n",
              "      <td>NaN</td>\n",
              "      <td>NaN</td>\n",
              "      <td>0.0240815</td>\n",
              "      <td>0.0169467</td>\n",
              "      <td>0.00719</td>\n",
              "      <td>0.01308</td>\n",
              "      <td>0.01826</td>\n",
              "      <td>0.0294</td>\n",
              "      <td>0.13778</td>\n",
              "    </tr>\n",
              "    <tr>\n",
              "      <th>Shimmer:DDA</th>\n",
              "      <td>195</td>\n",
              "      <td>NaN</td>\n",
              "      <td>NaN</td>\n",
              "      <td>NaN</td>\n",
              "      <td>0.0469926</td>\n",
              "      <td>0.0304591</td>\n",
              "      <td>0.01364</td>\n",
              "      <td>0.024735</td>\n",
              "      <td>0.03836</td>\n",
              "      <td>0.060795</td>\n",
              "      <td>0.16942</td>\n",
              "    </tr>\n",
              "    <tr>\n",
              "      <th>NHR</th>\n",
              "      <td>195</td>\n",
              "      <td>NaN</td>\n",
              "      <td>NaN</td>\n",
              "      <td>NaN</td>\n",
              "      <td>0.0248471</td>\n",
              "      <td>0.0404184</td>\n",
              "      <td>0.00065</td>\n",
              "      <td>0.005925</td>\n",
              "      <td>0.01166</td>\n",
              "      <td>0.02564</td>\n",
              "      <td>0.31482</td>\n",
              "    </tr>\n",
              "    <tr>\n",
              "      <th>HNR</th>\n",
              "      <td>195</td>\n",
              "      <td>NaN</td>\n",
              "      <td>NaN</td>\n",
              "      <td>NaN</td>\n",
              "      <td>21.886</td>\n",
              "      <td>4.42576</td>\n",
              "      <td>8.441</td>\n",
              "      <td>19.198</td>\n",
              "      <td>22.085</td>\n",
              "      <td>25.0755</td>\n",
              "      <td>33.047</td>\n",
              "    </tr>\n",
              "    <tr>\n",
              "      <th>status</th>\n",
              "      <td>195</td>\n",
              "      <td>NaN</td>\n",
              "      <td>NaN</td>\n",
              "      <td>NaN</td>\n",
              "      <td>0.753846</td>\n",
              "      <td>0.431878</td>\n",
              "      <td>0</td>\n",
              "      <td>1</td>\n",
              "      <td>1</td>\n",
              "      <td>1</td>\n",
              "      <td>1</td>\n",
              "    </tr>\n",
              "    <tr>\n",
              "      <th>RPDE</th>\n",
              "      <td>195</td>\n",
              "      <td>NaN</td>\n",
              "      <td>NaN</td>\n",
              "      <td>NaN</td>\n",
              "      <td>0.498536</td>\n",
              "      <td>0.103942</td>\n",
              "      <td>0.25657</td>\n",
              "      <td>0.421306</td>\n",
              "      <td>0.495954</td>\n",
              "      <td>0.587562</td>\n",
              "      <td>0.685151</td>\n",
              "    </tr>\n",
              "    <tr>\n",
              "      <th>DFA</th>\n",
              "      <td>195</td>\n",
              "      <td>NaN</td>\n",
              "      <td>NaN</td>\n",
              "      <td>NaN</td>\n",
              "      <td>0.718099</td>\n",
              "      <td>0.0553358</td>\n",
              "      <td>0.574282</td>\n",
              "      <td>0.674758</td>\n",
              "      <td>0.722254</td>\n",
              "      <td>0.761881</td>\n",
              "      <td>0.825288</td>\n",
              "    </tr>\n",
              "    <tr>\n",
              "      <th>spread1</th>\n",
              "      <td>195</td>\n",
              "      <td>NaN</td>\n",
              "      <td>NaN</td>\n",
              "      <td>NaN</td>\n",
              "      <td>-5.6844</td>\n",
              "      <td>1.09021</td>\n",
              "      <td>-7.96498</td>\n",
              "      <td>-6.4501</td>\n",
              "      <td>-5.72087</td>\n",
              "      <td>-5.04619</td>\n",
              "      <td>-2.43403</td>\n",
              "    </tr>\n",
              "    <tr>\n",
              "      <th>spread2</th>\n",
              "      <td>195</td>\n",
              "      <td>NaN</td>\n",
              "      <td>NaN</td>\n",
              "      <td>NaN</td>\n",
              "      <td>0.22651</td>\n",
              "      <td>0.0834058</td>\n",
              "      <td>0.006274</td>\n",
              "      <td>0.174351</td>\n",
              "      <td>0.218885</td>\n",
              "      <td>0.279234</td>\n",
              "      <td>0.450493</td>\n",
              "    </tr>\n",
              "    <tr>\n",
              "      <th>D2</th>\n",
              "      <td>195</td>\n",
              "      <td>NaN</td>\n",
              "      <td>NaN</td>\n",
              "      <td>NaN</td>\n",
              "      <td>2.38183</td>\n",
              "      <td>0.382799</td>\n",
              "      <td>1.42329</td>\n",
              "      <td>2.09913</td>\n",
              "      <td>2.36153</td>\n",
              "      <td>2.63646</td>\n",
              "      <td>3.67116</td>\n",
              "    </tr>\n",
              "    <tr>\n",
              "      <th>PPE</th>\n",
              "      <td>195</td>\n",
              "      <td>NaN</td>\n",
              "      <td>NaN</td>\n",
              "      <td>NaN</td>\n",
              "      <td>0.206552</td>\n",
              "      <td>0.0901193</td>\n",
              "      <td>0.044539</td>\n",
              "      <td>0.137451</td>\n",
              "      <td>0.194052</td>\n",
              "      <td>0.25298</td>\n",
              "      <td>0.527367</td>\n",
              "    </tr>\n",
              "  </tbody>\n",
              "</table>\n",
              "</div>"
            ],
            "text/plain": [
              "                 count unique             top  ...       50%       75%       max\n",
              "name               195    195  phon_R01_S24_5  ...       NaN       NaN       NaN\n",
              "MDVP:Fo(Hz)        195    NaN             NaN  ...    148.79   182.769   260.105\n",
              "MDVP:Fhi(Hz)       195    NaN             NaN  ...   175.829   224.206    592.03\n",
              "MDVP:Flo(Hz)       195    NaN             NaN  ...   104.315   140.019    239.17\n",
              "MDVP:Jitter(%)     195    NaN             NaN  ...   0.00494  0.007365   0.03316\n",
              "MDVP:Jitter(Abs)   195    NaN             NaN  ...     3e-05     6e-05   0.00026\n",
              "MDVP:RAP           195    NaN             NaN  ...    0.0025  0.003835   0.02144\n",
              "MDVP:PPQ           195    NaN             NaN  ...   0.00269  0.003955   0.01958\n",
              "Jitter:DDP         195    NaN             NaN  ...   0.00749  0.011505   0.06433\n",
              "MDVP:Shimmer       195    NaN             NaN  ...   0.02297  0.037885   0.11908\n",
              "MDVP:Shimmer(dB)   195    NaN             NaN  ...     0.221      0.35     1.302\n",
              "Shimmer:APQ3       195    NaN             NaN  ...   0.01279  0.020265   0.05647\n",
              "Shimmer:APQ5       195    NaN             NaN  ...   0.01347   0.02238    0.0794\n",
              "MDVP:APQ           195    NaN             NaN  ...   0.01826    0.0294   0.13778\n",
              "Shimmer:DDA        195    NaN             NaN  ...   0.03836  0.060795   0.16942\n",
              "NHR                195    NaN             NaN  ...   0.01166   0.02564   0.31482\n",
              "HNR                195    NaN             NaN  ...    22.085   25.0755    33.047\n",
              "status             195    NaN             NaN  ...         1         1         1\n",
              "RPDE               195    NaN             NaN  ...  0.495954  0.587562  0.685151\n",
              "DFA                195    NaN             NaN  ...  0.722254  0.761881  0.825288\n",
              "spread1            195    NaN             NaN  ...  -5.72087  -5.04619  -2.43403\n",
              "spread2            195    NaN             NaN  ...  0.218885  0.279234  0.450493\n",
              "D2                 195    NaN             NaN  ...   2.36153   2.63646   3.67116\n",
              "PPE                195    NaN             NaN  ...  0.194052   0.25298  0.527367\n",
              "\n",
              "[24 rows x 11 columns]"
            ]
          },
          "metadata": {},
          "execution_count": 12
        }
      ]
    },
    {
      "cell_type": "code",
      "metadata": {
        "colab": {
          "base_uri": "https://localhost:8080/"
        },
        "id": "rUjqk9v1Kjia",
        "outputId": "97fce483-1f6d-4dd4-ed4a-85d278348355"
      },
      "source": [
        "data.dtypes"
      ],
      "execution_count": 13,
      "outputs": [
        {
          "output_type": "execute_result",
          "data": {
            "text/plain": [
              "name                 object\n",
              "MDVP:Fo(Hz)         float64\n",
              "MDVP:Fhi(Hz)        float64\n",
              "MDVP:Flo(Hz)        float64\n",
              "MDVP:Jitter(%)      float64\n",
              "MDVP:Jitter(Abs)    float64\n",
              "MDVP:RAP            float64\n",
              "MDVP:PPQ            float64\n",
              "Jitter:DDP          float64\n",
              "MDVP:Shimmer        float64\n",
              "MDVP:Shimmer(dB)    float64\n",
              "Shimmer:APQ3        float64\n",
              "Shimmer:APQ5        float64\n",
              "MDVP:APQ            float64\n",
              "Shimmer:DDA         float64\n",
              "NHR                 float64\n",
              "HNR                 float64\n",
              "status                int64\n",
              "RPDE                float64\n",
              "DFA                 float64\n",
              "spread1             float64\n",
              "spread2             float64\n",
              "D2                  float64\n",
              "PPE                 float64\n",
              "dtype: object"
            ]
          },
          "metadata": {},
          "execution_count": 13
        }
      ]
    },
    {
      "cell_type": "code",
      "metadata": {
        "colab": {
          "base_uri": "https://localhost:8080/"
        },
        "id": "W0kug2CPKmsr",
        "outputId": "23633def-8c1f-4654-d715-c8a85d38d310"
      },
      "source": [
        "data.shape"
      ],
      "execution_count": 14,
      "outputs": [
        {
          "output_type": "execute_result",
          "data": {
            "text/plain": [
              "(195, 24)"
            ]
          },
          "metadata": {},
          "execution_count": 14
        }
      ]
    },
    {
      "cell_type": "code",
      "metadata": {
        "colab": {
          "base_uri": "https://localhost:8080/"
        },
        "id": "u5XXTytZKo_2",
        "outputId": "7a0e7c5b-2c0b-4914-8d17-5e749deb759b"
      },
      "source": [
        "data.info()"
      ],
      "execution_count": 16,
      "outputs": [
        {
          "output_type": "stream",
          "name": "stdout",
          "text": [
            "<class 'pandas.core.frame.DataFrame'>\n",
            "RangeIndex: 195 entries, 0 to 194\n",
            "Data columns (total 24 columns):\n",
            " #   Column            Non-Null Count  Dtype  \n",
            "---  ------            --------------  -----  \n",
            " 0   name              195 non-null    object \n",
            " 1   MDVP:Fo(Hz)       195 non-null    float64\n",
            " 2   MDVP:Fhi(Hz)      195 non-null    float64\n",
            " 3   MDVP:Flo(Hz)      195 non-null    float64\n",
            " 4   MDVP:Jitter(%)    195 non-null    float64\n",
            " 5   MDVP:Jitter(Abs)  195 non-null    float64\n",
            " 6   MDVP:RAP          195 non-null    float64\n",
            " 7   MDVP:PPQ          195 non-null    float64\n",
            " 8   Jitter:DDP        195 non-null    float64\n",
            " 9   MDVP:Shimmer      195 non-null    float64\n",
            " 10  MDVP:Shimmer(dB)  195 non-null    float64\n",
            " 11  Shimmer:APQ3      195 non-null    float64\n",
            " 12  Shimmer:APQ5      195 non-null    float64\n",
            " 13  MDVP:APQ          195 non-null    float64\n",
            " 14  Shimmer:DDA       195 non-null    float64\n",
            " 15  NHR               195 non-null    float64\n",
            " 16  HNR               195 non-null    float64\n",
            " 17  status            195 non-null    int64  \n",
            " 18  RPDE              195 non-null    float64\n",
            " 19  DFA               195 non-null    float64\n",
            " 20  spread1           195 non-null    float64\n",
            " 21  spread2           195 non-null    float64\n",
            " 22  D2                195 non-null    float64\n",
            " 23  PPE               195 non-null    float64\n",
            "dtypes: float64(22), int64(1), object(1)\n",
            "memory usage: 36.7+ KB\n"
          ]
        }
      ]
    },
    {
      "cell_type": "code",
      "metadata": {
        "id": "pNBM8qZoKqLx"
      },
      "source": [
        "X = data.drop(columns=['name','status'],axis = 1)"
      ],
      "execution_count": 22,
      "outputs": []
    },
    {
      "cell_type": "code",
      "metadata": {
        "id": "96KY9JylK1oN"
      },
      "source": [
        "Y = data['status']"
      ],
      "execution_count": 23,
      "outputs": []
    },
    {
      "cell_type": "code",
      "metadata": {
        "colab": {
          "base_uri": "https://localhost:8080/"
        },
        "id": "WK66AUrWK_y8",
        "outputId": "ed7f699a-5f3a-4e6c-c9ba-a9e915c13307"
      },
      "source": [
        "print(X)"
      ],
      "execution_count": 24,
      "outputs": [
        {
          "output_type": "stream",
          "name": "stdout",
          "text": [
            "     MDVP:Fo(Hz)  MDVP:Fhi(Hz)  MDVP:Flo(Hz)  ...   spread2        D2       PPE\n",
            "0        119.992       157.302        74.997  ...  0.266482  2.301442  0.284654\n",
            "1        122.400       148.650       113.819  ...  0.335590  2.486855  0.368674\n",
            "2        116.682       131.111       111.555  ...  0.311173  2.342259  0.332634\n",
            "3        116.676       137.871       111.366  ...  0.334147  2.405554  0.368975\n",
            "4        116.014       141.781       110.655  ...  0.234513  2.332180  0.410335\n",
            "..           ...           ...           ...  ...       ...       ...       ...\n",
            "190      174.188       230.978        94.261  ...  0.121952  2.657476  0.133050\n",
            "191      209.516       253.017        89.488  ...  0.129303  2.784312  0.168895\n",
            "192      174.688       240.005        74.287  ...  0.158453  2.679772  0.131728\n",
            "193      198.764       396.961        74.904  ...  0.207454  2.138608  0.123306\n",
            "194      214.289       260.277        77.973  ...  0.190667  2.555477  0.148569\n",
            "\n",
            "[195 rows x 22 columns]\n"
          ]
        }
      ]
    },
    {
      "cell_type": "code",
      "metadata": {
        "colab": {
          "base_uri": "https://localhost:8080/"
        },
        "id": "MZrHFGQ6LAyz",
        "outputId": "62066c6c-51f3-4682-b8db-5f889f5b86c7"
      },
      "source": [
        "print(Y)"
      ],
      "execution_count": 26,
      "outputs": [
        {
          "output_type": "stream",
          "name": "stdout",
          "text": [
            "0      1\n",
            "1      1\n",
            "2      1\n",
            "3      1\n",
            "4      1\n",
            "      ..\n",
            "190    0\n",
            "191    0\n",
            "192    0\n",
            "193    0\n",
            "194    0\n",
            "Name: status, Length: 195, dtype: int64\n"
          ]
        }
      ]
    },
    {
      "cell_type": "code",
      "metadata": {
        "colab": {
          "base_uri": "https://localhost:8080/"
        },
        "id": "nIcR8vxCLBnI",
        "outputId": "220696fb-ca60-4b8a-827a-77babdb308ae"
      },
      "source": [
        "data['status'].value_counts()"
      ],
      "execution_count": 27,
      "outputs": [
        {
          "output_type": "execute_result",
          "data": {
            "text/plain": [
              "1    147\n",
              "0     48\n",
              "Name: status, dtype: int64"
            ]
          },
          "metadata": {},
          "execution_count": 27
        }
      ]
    },
    {
      "cell_type": "code",
      "metadata": {
        "id": "EgoS-_pqLLu8"
      },
      "source": [
        "X_train,X_test,Y_train,Y_test = train_test_split(X,Y,test_size = 0.1,random_state = 1)"
      ],
      "execution_count": 33,
      "outputs": []
    },
    {
      "cell_type": "code",
      "metadata": {
        "colab": {
          "base_uri": "https://localhost:8080/"
        },
        "id": "ETrADGnvLRF9",
        "outputId": "53ad708c-bc38-4b1f-f355-36b6981c0d3c"
      },
      "source": [
        "print(X.shape,X_train.shape,X_test.shape)"
      ],
      "execution_count": 34,
      "outputs": [
        {
          "output_type": "stream",
          "name": "stdout",
          "text": [
            "(195, 22) (175, 22) (20, 22)\n"
          ]
        }
      ]
    },
    {
      "cell_type": "code",
      "metadata": {
        "id": "cwn3EF3dLaaO"
      },
      "source": [
        "encoder = StandardScaler()"
      ],
      "execution_count": 35,
      "outputs": []
    },
    {
      "cell_type": "code",
      "metadata": {
        "id": "lJTPjvW3Lurz"
      },
      "source": [
        "train_transform = encoder.fit_transform(X_train)"
      ],
      "execution_count": 36,
      "outputs": []
    },
    {
      "cell_type": "code",
      "metadata": {
        "id": "K_MOb83cLzZp"
      },
      "source": [
        "test_transform = encoder.fit_transform(X_test)"
      ],
      "execution_count": 37,
      "outputs": []
    },
    {
      "cell_type": "code",
      "metadata": {
        "colab": {
          "base_uri": "https://localhost:8080/"
        },
        "id": "ExBl6A7RL4mI",
        "outputId": "9011618c-c88d-4189-bd51-f37ae908693a"
      },
      "source": [
        "print(train_transform)"
      ],
      "execution_count": 38,
      "outputs": [
        {
          "output_type": "stream",
          "name": "stdout",
          "text": [
            "[[ 1.12752051  0.17108427  1.81789153 ... -0.6470999   0.16630224\n",
            "  -1.65756235]\n",
            " [-0.06936867 -0.41352265  0.38449042 ...  0.31362444  0.3006282\n",
            "  -1.12610755]\n",
            " [-0.16095797 -0.3575089  -1.15188643 ... -1.24583614 -0.63316729\n",
            "  -0.71771102]\n",
            " ...\n",
            " [-0.83713518 -0.61342943 -0.13705131 ...  1.28535607 -0.45792509\n",
            "  -0.20268033]\n",
            " [ 0.37684552  0.81582377 -0.86963433 ...  2.12073099  1.49897498\n",
            "   0.78952981]\n",
            " [ 0.51690908 -0.10528644  1.07422665 ... -0.32858151  0.3970296\n",
            "  -0.36939508]]\n"
          ]
        }
      ]
    },
    {
      "cell_type": "code",
      "metadata": {
        "colab": {
          "base_uri": "https://localhost:8080/"
        },
        "id": "lDeJDVsFL6Lf",
        "outputId": "a4b0c4c4-f88f-4547-83cb-2b4afe6e0121"
      },
      "source": [
        "print(test_transform )"
      ],
      "execution_count": 39,
      "outputs": [
        {
          "output_type": "stream",
          "name": "stdout",
          "text": [
            "[[-0.7686852  -0.91726718 -0.50620574 -0.71621251 -0.35016539 -0.62354814\n",
            "  -0.7957106  -0.62002327 -0.98142227 -1.03000139 -0.96194451 -0.92008064\n",
            "  -0.93463062 -0.96267281 -0.38089932  0.01623082 -0.23206508  0.10917157\n",
            "   0.1942468   0.0122866   0.43375481  0.26415919]\n",
            " [-0.13621863  1.38356822 -0.59703155  0.31214193  0.1167218  -0.19245313\n",
            "   0.21920517 -0.19607574 -0.27803084 -0.27676908 -0.4049682  -0.27669465\n",
            "   0.04709576 -0.40452152  0.6547655  -0.30235174  0.68370608 -1.1360702\n",
            "   0.19101795 -0.16262573 -0.34034427  0.10999498]\n",
            " [ 0.08669991 -0.3974673  -0.91565417  1.34049636  0.58360899  1.37796442\n",
            "   1.38386261  1.37663287  2.60703802  2.78871125  2.08484854  2.78164514\n",
            "   3.17523684  2.08505425  2.06417966 -1.82678136  1.61401058  0.07924975\n",
            "   1.42382099  1.20140171  2.25570145  1.85815893]\n",
            " [-0.58527694 -0.82465703  0.07912616 -0.18645416  0.1167218  -1.01358649\n",
            "  -0.80402959 -1.01320042 -0.28967089 -0.33807869 -0.11653403 -0.58742817\n",
            "  -0.34254542 -0.11660388 -0.84564849  0.51130087  0.11494919  0.74390096\n",
            "  -0.84181111  0.44012596  0.17410382 -1.12124414]\n",
            " [-1.19104261 -0.73634979 -0.52632666  2.1974584   2.45115776  2.70204196\n",
            "   1.62511308  2.70317839  0.35967746  0.42391214  0.60620904  0.17844613\n",
            "   0.04624871  0.60567704  2.84634493 -1.47471143  1.671574   -0.65059234\n",
            "   2.26696126  1.65038762  0.56932567  1.74624307]\n",
            " [ 1.85623226  0.50668833 -0.48721141 -0.68505025 -0.81705259 -0.62354814\n",
            "  -0.64596893 -0.62686114  0.12853938  0.01226192  0.27467552  0.08174483\n",
            "  -0.09266684  0.27465464  0.25826621 -0.8957721   0.67866216 -2.28044571\n",
            "   0.17715082  1.05551247  1.43046589  0.27131584]\n",
            " [-1.45198666 -1.01320464 -0.51753925  0.29136709  1.05049618  0.52603856\n",
            "   0.58524037  0.52873779  0.30812868  0.22246629  0.34927056  0.29190899\n",
            "   0.16568221  0.34925902 -0.12306645 -0.57960304  0.83578367  1.266582\n",
            "   0.58774616  1.26718584  0.8215621   0.74407144]\n",
            " [-0.06935314 -0.05988903 -0.62017174  0.06284388 -0.35016539  0.20784938\n",
            "   0.07778248  0.20393928 -0.38445413 -0.22421799 -0.54752761 -0.34889829\n",
            "  -0.16297166 -0.54709878  0.07951653  0.53815111 -1.29783358  0.19602774\n",
            "  -0.49663294 -0.66688603 -0.1875404  -0.49552076]\n",
            " [-0.83582752 -0.87798643 -0.0065624  -0.71621251 -0.35016539 -0.62354814\n",
            "  -0.43799439 -0.6234422  -0.54575193 -0.60083414 -0.56244662 -0.50748842\n",
            "  -0.58225946 -0.56201966 -0.90956505  0.84707965 -1.27447575  0.79072593\n",
            "  -0.28595205 -1.66988611 -1.13892185 -0.37005996]\n",
            " [ 0.72185922  2.3444319  -0.61282636 -0.11374223 -0.35016539 -0.74671815\n",
            "  -0.59605504 -0.74310482 -0.91657058 -0.82855554 -0.98846719 -0.86463856\n",
            "  -0.73472775 -0.98864618 -0.4318159   0.50828399 -0.23728949 -0.96464955\n",
            "   0.62668838  1.60777115  1.35738084  0.48108673]\n",
            " [ 0.14488321  0.13196536 -0.65807028 -0.90318604 -0.81705259 -0.72618981\n",
            "  -0.74579671 -0.72942909 -0.55157196 -0.54828305 -0.73650172 -0.51909258\n",
            "  -0.30273426 -0.73664917 -0.62573222  0.79488762 -0.23675755 -0.62302721\n",
            "  -1.198824    0.29963019 -0.41030611 -1.09357251]\n",
            " [ 2.40054308  0.59231523  2.92708195 -0.17087304 -0.81705259  0.50551022\n",
            "  -0.23833883  0.50480527 -0.40274564 -0.37311275 -0.21433642 -0.37855336\n",
            "  -0.64663496 -0.21386589 -0.22273294 -0.54521061  0.26035855 -1.10151627\n",
            "  -1.35061323 -0.95577721 -0.86066683 -1.22851696]\n",
            " [-0.98609244 -0.85714966 -0.13274065  1.55863215  1.51738338  1.25479441\n",
            "   2.06601912  1.25355132  1.10879765  0.96694008  1.35713247  1.14416979\n",
            "   0.66374529  1.3577997  -0.30939945 -0.57718954  0.44054342  1.73538425\n",
            "   1.01918146 -0.17955683 -1.39031292  1.39288927]\n",
            " [ 0.21688253  2.34168995 -0.84073583 -0.0410303  -0.35016539 -0.16166063\n",
            "  -0.48790828 -0.16188642 -0.76774426 -0.66214375 -1.00670154 -0.86077051\n",
            "  -0.59835333 -1.00688281  0.32434942  0.9113392  -0.42369615 -0.98766383\n",
            "  -0.31434778  0.22445658  0.81640387 -0.41751114]\n",
            " [ 0.0165377  -0.61538561 -0.76410507 -1.22519602 -0.81705259 -1.28045483\n",
            "  -1.07855598 -1.2798771  -1.03962251 -1.02124288 -1.14594561 -0.97423337\n",
            "  -0.85500829 -1.14559169 -0.82289853  1.03291948 -1.88567379  0.12620474\n",
            "  -0.9982861  -1.90074266 -1.140963   -1.03399235]\n",
            " [ 1.24890631 -0.05156048  1.8663059  -1.26155198 -1.28393978 -0.98279399\n",
            "  -1.06191802 -0.98243004 -1.13606862 -1.17889615 -1.17578363 -0.99744168\n",
            "  -1.06422866 -1.17543344 -1.17823124  2.29427713 -0.59808668  0.44637308\n",
            "  -1.66323495 -0.93001099 -0.83647729 -1.53277312]\n",
            " [-0.874608    0.58311378 -0.10322395  1.98971002  1.98427057  1.47034192\n",
            "   2.11593301  1.47236296  0.70139599  1.10707632  0.98084192  0.72126277\n",
            "   0.42403125  0.98035681 -0.12089978 -0.50538779  0.49937968  1.67089225\n",
            "   0.87803133 -0.37112308 -1.67081505  1.18822242]\n",
            " [ 0.9201153  -0.17261708  1.53943663 -0.96551056 -0.81705259 -0.66460481\n",
            "  -0.7541157  -0.66105045 -0.73698128 -0.77600445 -0.72821338 -0.61063648\n",
            "  -0.66526997 -0.72891242 -1.10889803  1.05192582 -1.60458196  0.82942438\n",
            "  -0.80727187 -0.60922097 -0.00351669 -0.8516516 ]\n",
            " [-0.9110229  -0.83376606 -0.03256413 -0.17087304  0.1167218  -0.1103398\n",
            "   0.14433433 -0.10718351  2.07658444  1.81651606  1.94228913  2.00932409\n",
            "   1.9919135   1.94192436  1.10868136 -1.303956    1.44855853 -0.10478325\n",
            "   1.06840971  0.53382446  0.21605818  0.56317958]\n",
            " [ 0.19745454 -0.52647248  0.90901854 -0.5967572  -0.81705259 -0.2950948\n",
            "  -0.5710981  -0.29864369  0.74047329  0.5202558   0.99410326  0.63745497\n",
            "   0.46807765  0.99417243 -0.25631621 -0.49543208 -0.45706583 -0.14518827\n",
            "  -0.47628082 -0.84675296 -0.09489222 -0.47447891]]\n"
          ]
        }
      ]
    },
    {
      "cell_type": "code",
      "metadata": {
        "id": "dT3X0ZAuL8Bl"
      },
      "source": [
        "model = LogisticRegression()"
      ],
      "execution_count": 40,
      "outputs": []
    },
    {
      "cell_type": "code",
      "metadata": {
        "colab": {
          "base_uri": "https://localhost:8080/"
        },
        "id": "YlhdSfJwL_3S",
        "outputId": "11788ec1-8516-4af9-cb82-f22d06093959"
      },
      "source": [
        "model.fit(X_train,Y_train)"
      ],
      "execution_count": 41,
      "outputs": [
        {
          "output_type": "stream",
          "name": "stderr",
          "text": [
            "/usr/local/lib/python3.7/dist-packages/sklearn/linear_model/_logistic.py:818: ConvergenceWarning: lbfgs failed to converge (status=1):\n",
            "STOP: TOTAL NO. of ITERATIONS REACHED LIMIT.\n",
            "\n",
            "Increase the number of iterations (max_iter) or scale the data as shown in:\n",
            "    https://scikit-learn.org/stable/modules/preprocessing.html\n",
            "Please also refer to the documentation for alternative solver options:\n",
            "    https://scikit-learn.org/stable/modules/linear_model.html#logistic-regression\n",
            "  extra_warning_msg=_LOGISTIC_SOLVER_CONVERGENCE_MSG,\n"
          ]
        },
        {
          "output_type": "execute_result",
          "data": {
            "text/plain": [
              "LogisticRegression()"
            ]
          },
          "metadata": {},
          "execution_count": 41
        }
      ]
    },
    {
      "cell_type": "code",
      "metadata": {
        "colab": {
          "base_uri": "https://localhost:8080/"
        },
        "id": "2AwgAQJmMCFb",
        "outputId": "475c26ed-7c47-479e-8e2a-55a89707d59d"
      },
      "source": [
        "train_predict = model.predict(train_transform)"
      ],
      "execution_count": 42,
      "outputs": [
        {
          "output_type": "stream",
          "name": "stderr",
          "text": [
            "/usr/local/lib/python3.7/dist-packages/sklearn/base.py:446: UserWarning: X does not have valid feature names, but LogisticRegression was fitted with feature names\n",
            "  \"X does not have valid feature names, but\"\n"
          ]
        }
      ]
    },
    {
      "cell_type": "code",
      "metadata": {
        "colab": {
          "base_uri": "https://localhost:8080/"
        },
        "id": "TT8uoj7nMGMx",
        "outputId": "76873144-fa0b-48d9-8ecb-4c36189d3717"
      },
      "source": [
        "test_predict = model.predict(test_transform)"
      ],
      "execution_count": 43,
      "outputs": [
        {
          "output_type": "stream",
          "name": "stderr",
          "text": [
            "/usr/local/lib/python3.7/dist-packages/sklearn/base.py:446: UserWarning: X does not have valid feature names, but LogisticRegression was fitted with feature names\n",
            "  \"X does not have valid feature names, but\"\n"
          ]
        }
      ]
    },
    {
      "cell_type": "code",
      "metadata": {
        "id": "MZ3HZYkfML6y"
      },
      "source": [
        "from sklearn import metrics"
      ],
      "execution_count": 45,
      "outputs": []
    },
    {
      "cell_type": "code",
      "metadata": {
        "colab": {
          "base_uri": "https://localhost:8080/"
        },
        "id": "tZLRAjenMbW4",
        "outputId": "37f99ece-deda-482c-9110-ec8e0c4ca505"
      },
      "source": [
        "accuracy_score(Y_train,train_predict)"
      ],
      "execution_count": 49,
      "outputs": [
        {
          "output_type": "execute_result",
          "data": {
            "text/plain": [
              "0.8571428571428571"
            ]
          },
          "metadata": {},
          "execution_count": 49
        }
      ]
    },
    {
      "cell_type": "code",
      "metadata": {
        "colab": {
          "base_uri": "https://localhost:8080/"
        },
        "id": "SuqVhK2aMki0",
        "outputId": "0b4839b6-866e-4933-e53f-9323f2717421"
      },
      "source": [
        "input_data = [122.40000,148.65000,113.81900,0.00968,0.00008,0.00465,0.00696,0.01394,0.06134,0.62600,0.03134,0.04518,0.04368,0.09403,0.01929,19.08500,0.458359,0.819521,-4.075192,0.335590,2.486855,0.368674]\n",
        "in_array = np.array(input_data)\n",
        "reshape_data = in_array.reshape(1,-1)\n",
        "encoders  = encoder.transform(reshape_data)\n",
        "\n",
        "prediction = model.predict(encoders)\n",
        "if prediction[0]==1:\n",
        "  print('patient have a parkinsons Disease')\n",
        "else:\n",
        "  print(\"patient have a no parkinsons Disease\")"
      ],
      "execution_count": 60,
      "outputs": [
        {
          "output_type": "stream",
          "name": "stdout",
          "text": [
            "patient have a parkinsons Disease\n"
          ]
        },
        {
          "output_type": "stream",
          "name": "stderr",
          "text": [
            "/usr/local/lib/python3.7/dist-packages/sklearn/base.py:446: UserWarning: X does not have valid feature names, but StandardScaler was fitted with feature names\n",
            "  \"X does not have valid feature names, but\"\n",
            "/usr/local/lib/python3.7/dist-packages/sklearn/base.py:446: UserWarning: X does not have valid feature names, but LogisticRegression was fitted with feature names\n",
            "  \"X does not have valid feature names, but\"\n"
          ]
        }
      ]
    },
    {
      "cell_type": "code",
      "metadata": {
        "id": "3cnu-fxYNHTh"
      },
      "source": [
        ""
      ],
      "execution_count": null,
      "outputs": []
    }
  ]
}